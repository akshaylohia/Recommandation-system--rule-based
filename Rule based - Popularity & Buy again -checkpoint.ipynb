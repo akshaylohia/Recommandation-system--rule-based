{
 "cells": [
  {
   "cell_type": "code",
   "execution_count": 1,
   "metadata": {},
   "outputs": [],
   "source": [
    "#imports\n",
    "import pandas as pd\n",
    "import numpy as np\n",
    "import seaborn as sns\n",
    "import matplotlib.pyplot as plt\n",
    "%matplotlib inline"
   ]
  },
  {
   "cell_type": "code",
   "execution_count": null,
   "metadata": {},
   "outputs": [],
   "source": [
    "#read csv data\n",
    "df = pd.read_csv('xyz.csv',encoding= 'unicode_escape')"
   ]
  },
  {
   "cell_type": "code",
   "execution_count": null,
   "metadata": {
    "scrolled": true
   },
   "outputs": [],
   "source": [
    "#view first 5 rows\n",
    "df.head()"
   ]
  },
  {
   "cell_type": "code",
   "execution_count": null,
   "metadata": {
    "scrolled": true
   },
   "outputs": [],
   "source": [
    "#null check\n",
    "df.isnull().sum().sort_values(ascending=False)"
   ]
  },
  {
   "cell_type": "code",
   "execution_count": null,
   "metadata": {},
   "outputs": [],
   "source": [
    "#drop nulls in description column\n",
    "df_new = df.dropna(subset=['Description'])"
   ]
  },
  {
   "cell_type": "code",
   "execution_count": null,
   "metadata": {},
   "outputs": [],
   "source": [
    "#descriptive stats check\n",
    "df_new.describe()\n",
    "\n",
    "# Here we can see quantity has some negative values, we will drop such entries"
   ]
  },
  {
   "cell_type": "code",
   "execution_count": null,
   "metadata": {},
   "outputs": [],
   "source": [
    "#remove negetive qty\n",
    "df_new = df_new[df_new.Quantity > 0]"
   ]
  },
  {
   "cell_type": "code",
   "execution_count": null,
   "metadata": {},
   "outputs": [],
   "source": [
    "#descriptive stats check\n",
    "df_new.describe()"
   ]
  },
  {
   "cell_type": "markdown",
   "metadata": {},
   "source": [
    "## Popular Items Globally"
   ]
  },
  {
   "cell_type": "code",
   "execution_count": null,
   "metadata": {},
   "outputs": [],
   "source": [
    "#pivoting to get top products by quantity\n",
    "global_popularity=df_new.pivot_table(index=['StockCode','Description'], values='Quantity', aggfunc='sum').sort_values(by='Quantity', ascending=False)\n",
    "print('Top 10 popular items globally....')\n",
    "global_popularity.head(10)"
   ]
  },
  {
   "cell_type": "code",
   "execution_count": null,
   "metadata": {},
   "outputs": [],
   "source": [
    "#viz - top products by quantity\n",
    "global_popularity.reset_index(inplace=True)\n",
    "sns.barplot(y='Description', x='Quantity', data=global_popularity.head(10))\n",
    "plt.title('Top 10 Most Popular Items Globally', fontsize=14)\n",
    "plt.ylabel('Item')"
   ]
  },
  {
   "cell_type": "markdown",
   "metadata": {},
   "source": [
    "## Popular Items Countrywise"
   ]
  },
  {
   "cell_type": "code",
   "execution_count": null,
   "metadata": {},
   "outputs": [],
   "source": [
    "#pivoting to get top products by quantity and country\n",
    "countrywise=df_new.pivot_table(index=['Country','StockCode','Description'], values='Quantity', aggfunc='sum').reset_index()"
   ]
  },
  {
   "cell_type": "code",
   "execution_count": null,
   "metadata": {},
   "outputs": [],
   "source": [
    "#Viz\n",
    "sns.barplot(y='Description', x='Quantity', data=countrywise[countrywise['Country']=='United Kingdom'].sort_values(by='Quantity', ascending=False).head(10))\n",
    "plt.title('Top 10 Most Popular Items in UK', fontsize=14)\n",
    "plt.ylabel('Item')"
   ]
  },
  {
   "cell_type": "code",
   "execution_count": null,
   "metadata": {},
   "outputs": [],
   "source": [
    "#Viz\n",
    "sns.barplot(y='Description', x='Quantity', data=countrywise[countrywise['Country']=='Netherlands'].sort_values(by='Quantity', ascending=False).head(10))\n",
    "plt.title('Top 10 Most Popular Items in Netherlands', fontsize=14)\n",
    "plt.ylabel('Item')"
   ]
  },
  {
   "cell_type": "code",
   "execution_count": null,
   "metadata": {},
   "outputs": [],
   "source": [
    "#Viz\n",
    "sns.barplot(y='Description', x='Quantity', data=countrywise[countrywise['Country']=='EIRE'].sort_values(by='Quantity', ascending=False).head(10))\n",
    "plt.title('Top 10 Most Popular Items in EIRE', fontsize=14)\n",
    "plt.ylabel('Item')"
   ]
  },
  {
   "cell_type": "code",
   "execution_count": null,
   "metadata": {},
   "outputs": [],
   "source": [
    "#Viz\n",
    "sns.barplot(y='Description', x='Quantity', data=countrywise[countrywise['Country']=='Germany'].sort_values(by='Quantity', ascending=False).head(10))\n",
    "plt.title('Top 10 Most Popular Items in Germany', fontsize=14)\n",
    "plt.ylabel('Item')"
   ]
  },
  {
   "cell_type": "markdown",
   "metadata": {},
   "source": [
    "## Popular Items Monthwise"
   ]
  },
  {
   "cell_type": "code",
   "execution_count": null,
   "metadata": {},
   "outputs": [],
   "source": [
    "import datetime\n",
    "#format datetime\n",
    "df_new['InvoiceDate'] = pd.to_datetime(df_new.InvoiceDate, format='%m/%d/%Y %H:%M')\n",
    "df_new.insert(loc=2, column='year_month', value=df_new['InvoiceDate'].map(lambda x: 100*x.year + x.month))\n",
    "df_new.insert(loc=3, column='month', value=df_new.InvoiceDate.dt.month)\n",
    "# +1 to make Monday=1.....until Sunday=7\n",
    "df_new.insert(loc=4, column='day', value=(df_new.InvoiceDate.dt.dayofweek)+1)\n",
    "df_new.insert(loc=5, column='hour', value=df_new.InvoiceDate.dt.hour)"
   ]
  },
  {
   "cell_type": "code",
   "execution_count": null,
   "metadata": {},
   "outputs": [],
   "source": [
    "#viz - popular items by month\n",
    "sns.barplot(y='Description', x='Quantity', data=df_new[df_new['year_month']==201012].sort_values(by='Quantity', ascending=False).head(10))\n",
    "plt.title('Top 10 Most Popular Items during December 2010', fontsize=14)\n",
    "plt.ylabel('Item')"
   ]
  },
  {
   "cell_type": "code",
   "execution_count": null,
   "metadata": {},
   "outputs": [],
   "source": [
    "#viz\n",
    "sns.barplot(y='Description', x='Quantity', data=df_new[df_new['year_month']==201101].sort_values(by='Quantity', ascending=False).head(10))\n",
    "plt.title('Top 10 Most Popular Items during January 2011', fontsize=14)\n",
    "plt.ylabel('Item')"
   ]
  },
  {
   "cell_type": "code",
   "execution_count": null,
   "metadata": {},
   "outputs": [],
   "source": [
    "sns.barplot(y='Description', x='Quantity', data=df_new[df_new['year_month']==201102].sort_values(by='Quantity', ascending=False).head(10))\n",
    "plt.title('Top 10 Most Popular Items during February 2011', fontsize=14)\n",
    "plt.ylabel('Item')"
   ]
  },
  {
   "cell_type": "code",
   "execution_count": null,
   "metadata": {},
   "outputs": [],
   "source": [
    "sns.barplot(y='Description', x='Quantity', data=df_new[df_new['year_month']==201103].sort_values(by='Quantity', ascending=False).head(10))\n",
    "plt.title('Top 10 Most Popular Items during March 2011', fontsize=14)\n",
    "plt.ylabel('Item')"
   ]
  },
  {
   "cell_type": "markdown",
   "metadata": {},
   "source": [
    "## Buy Again"
   ]
  },
  {
   "cell_type": "code",
   "execution_count": null,
   "metadata": {},
   "outputs": [],
   "source": [
    "from collections import Counter\n",
    "\n",
    "# Extracting all the items bought by customer 17850\n",
    "desc = df_new[df_new['CustomerID']==17850].Description\n",
    "\n",
    "# Counting the number of times that purchase has been repeated\n",
    "count = Counter(desc)\n",
    "\n",
    "# Counter sorts the items in descending order of purchased count\n",
    "\n",
    "# Printing the count\n",
    "print(count)"
   ]
  },
  {
   "cell_type": "code",
   "execution_count": null,
   "metadata": {},
   "outputs": [],
   "source": [
    "def buy_again(customerid):\n",
    "    \n",
    "    # Fetching the items bought by the customer for provided customer id\n",
    "    items_bought = df_new[df_new['CustomerID']==customerid].Description\n",
    "    \n",
    "    # Count and sort the repeated purchases\n",
    "    bought_again = Counter(items_bought)\n",
    "    \n",
    "    # Convert counter to list for printing recommendations\n",
    "    buy_again_list = list(bought_again)\n",
    "    \n",
    "    # Printing the recommendations\n",
    "    print('Items you would like to buy again :')\n",
    "    return(buy_again_list)"
   ]
  },
  {
   "cell_type": "code",
   "execution_count": null,
   "metadata": {},
   "outputs": [],
   "source": [
    "buy_again(17850)"
   ]
  },
  {
   "cell_type": "code",
   "execution_count": null,
   "metadata": {},
   "outputs": [],
   "source": [
    "buy_again(17892)"
   ]
  },
  {
   "cell_type": "code",
   "execution_count": null,
   "metadata": {},
   "outputs": [],
   "source": []
  }
 ],
 "metadata": {
  "kernelspec": {
   "display_name": "Python 3 (ipykernel)",
   "language": "python",
   "name": "python3"
  },
  "language_info": {
   "codemirror_mode": {
    "name": "ipython",
    "version": 3
   },
   "file_extension": ".py",
   "mimetype": "text/x-python",
   "name": "python",
   "nbconvert_exporter": "python",
   "pygments_lexer": "ipython3",
   "version": "3.9.7"
  }
 },
 "nbformat": 4,
 "nbformat_minor": 4
}
